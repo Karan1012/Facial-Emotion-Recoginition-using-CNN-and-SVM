{
  "nbformat": 4,
  "nbformat_minor": 0,
  "metadata": {
    "colab": {
      "name": "AML_Final_Project_CK+_SVM.ipynb",
      "provenance": [],
      "collapsed_sections": []
    },
    "kernelspec": {
      "name": "python3",
      "display_name": "Python 3"
    },
    "accelerator": "GPU"
  },
  "cells": [
    {
      "cell_type": "code",
      "metadata": {
        "id": "oeJevJ0NGL98",
        "colab_type": "code",
        "colab": {}
      },
      "source": [
        "# This Python 3 environment comes with many helpful analytics libraries installed\n",
        "# It is defined by the kaggle/python docker image: https://github.com/kaggle/docker-python\n",
        "# For example, here's several helpful packages to load in \n",
        "\n",
        "import numpy as np # linear algebra\n",
        "import pandas as pd # data processing, CSV file I/O (e.g. pd.read_csv)\n",
        "\n",
        "# Input data files are available in the \"../input/\" directory.\n",
        "# For example, running this (by clicking run or pressing Shift+Enter) will list all files under the input directory\n",
        "\n",
        "import os\n",
        "for dirname, _, filenames in os.walk('/kaggle/input'):\n",
        "    for filename in filenames:\n",
        "        print(os.path.join(dirname, filename))\n",
        "\n",
        "# Any results you write to the current directory are saved as output."
      ],
      "execution_count": 0,
      "outputs": []
    },
    {
      "cell_type": "code",
      "metadata": {
        "id": "6DIJjP6ZHMqQ",
        "colab_type": "code",
        "outputId": "c8703883-1a14-4cd1-883e-53d4ec2823cb",
        "colab": {
          "base_uri": "https://localhost:8080/",
          "height": 280
        }
      },
      "source": [
        "!pip install scikit-plot"
      ],
      "execution_count": 2,
      "outputs": [
        {
          "output_type": "stream",
          "text": [
            "Collecting scikit-plot\n",
            "  Downloading https://files.pythonhosted.org/packages/7c/47/32520e259340c140a4ad27c1b97050dd3254fdc517b1d59974d47037510e/scikit_plot-0.3.7-py3-none-any.whl\n",
            "Requirement already satisfied: scikit-learn>=0.18 in /usr/local/lib/python3.6/dist-packages (from scikit-plot) (0.22.2.post1)\n",
            "Requirement already satisfied: matplotlib>=1.4.0 in /usr/local/lib/python3.6/dist-packages (from scikit-plot) (3.2.1)\n",
            "Requirement already satisfied: scipy>=0.9 in /usr/local/lib/python3.6/dist-packages (from scikit-plot) (1.4.1)\n",
            "Requirement already satisfied: joblib>=0.10 in /usr/local/lib/python3.6/dist-packages (from scikit-plot) (0.14.1)\n",
            "Requirement already satisfied: numpy>=1.11.0 in /usr/local/lib/python3.6/dist-packages (from scikit-learn>=0.18->scikit-plot) (1.18.4)\n",
            "Requirement already satisfied: python-dateutil>=2.1 in /usr/local/lib/python3.6/dist-packages (from matplotlib>=1.4.0->scikit-plot) (2.8.1)\n",
            "Requirement already satisfied: cycler>=0.10 in /usr/local/lib/python3.6/dist-packages (from matplotlib>=1.4.0->scikit-plot) (0.10.0)\n",
            "Requirement already satisfied: kiwisolver>=1.0.1 in /usr/local/lib/python3.6/dist-packages (from matplotlib>=1.4.0->scikit-plot) (1.2.0)\n",
            "Requirement already satisfied: pyparsing!=2.0.4,!=2.1.2,!=2.1.6,>=2.0.1 in /usr/local/lib/python3.6/dist-packages (from matplotlib>=1.4.0->scikit-plot) (2.4.7)\n",
            "Requirement already satisfied: six>=1.5 in /usr/local/lib/python3.6/dist-packages (from python-dateutil>=2.1->matplotlib>=1.4.0->scikit-plot) (1.12.0)\n",
            "Installing collected packages: scikit-plot\n",
            "Successfully installed scikit-plot-0.3.7\n"
          ],
          "name": "stdout"
        }
      ]
    },
    {
      "cell_type": "code",
      "metadata": {
        "id": "Vw4syXUfHDxt",
        "colab_type": "code",
        "colab": {
          "base_uri": "https://localhost:8080/",
          "height": 89
        },
        "outputId": "3579285d-3e9e-4fd9-9a45-a2c12e55270b"
      },
      "source": [
        "import math\n",
        "import numpy as np\n",
        "import pandas as pd\n",
        "\n",
        "import scikitplot\n",
        "import seaborn as sns\n",
        "from matplotlib import pyplot\n",
        "\n",
        "from sklearn.model_selection import train_test_split\n",
        "from sklearn.preprocessing import LabelEncoder\n",
        "from sklearn.metrics import classification_report\n",
        "\n",
        "import tensorflow as tf\n",
        "from tensorflow.keras import optimizers\n",
        "from tensorflow.keras.datasets import mnist\n",
        "from tensorflow.keras.models import Sequential\n",
        "from tensorflow.keras.layers import Flatten, Dense, Conv2D, MaxPooling2D\n",
        "from tensorflow.keras.layers import Dropout, BatchNormalization, LeakyReLU, Activation\n",
        "from tensorflow.keras.callbacks import Callback, EarlyStopping, ReduceLROnPlateau\n",
        "from tensorflow.keras.preprocessing.image import ImageDataGenerator\n",
        "\n",
        "from keras.utils import np_utils"
      ],
      "execution_count": 3,
      "outputs": [
        {
          "output_type": "stream",
          "text": [
            "/usr/local/lib/python3.6/dist-packages/statsmodels/tools/_testing.py:19: FutureWarning: pandas.util.testing is deprecated. Use the functions in the public API at pandas.testing instead.\n",
            "  import pandas.util.testing as tm\n",
            "Using TensorFlow backend.\n"
          ],
          "name": "stderr"
        }
      ]
    },
    {
      "cell_type": "code",
      "metadata": {
        "id": "_IasQrB6HISq",
        "colab_type": "code",
        "outputId": "113631ad-50b8-4acf-d5c3-8bf0861cdc6b",
        "colab": {
          "base_uri": "https://localhost:8080/",
          "height": 124
        }
      },
      "source": [
        "from google.colab import drive\n",
        "drive.mount('/content/gdrive/')\n",
        "import sys \n",
        "import os \n",
        "prefix = '/content/gdrive/My Drive/'\n",
        "customized_path_to_your_homework = 'AML_Final_Project' \n",
        "sys_path = os.path.join(prefix, customized_path_to_your_homework) \n",
        "sys.path.append(sys_path)\n",
        "\n"
      ],
      "execution_count": 4,
      "outputs": [
        {
          "output_type": "stream",
          "text": [
            "Go to this URL in a browser: https://accounts.google.com/o/oauth2/auth?client_id=947318989803-6bn6qk8qdgf4n4g3pfee6491hc0brc4i.apps.googleusercontent.com&redirect_uri=urn%3aietf%3awg%3aoauth%3a2.0%3aoob&response_type=code&scope=email%20https%3a%2f%2fwww.googleapis.com%2fauth%2fdocs.test%20https%3a%2f%2fwww.googleapis.com%2fauth%2fdrive%20https%3a%2f%2fwww.googleapis.com%2fauth%2fdrive.photos.readonly%20https%3a%2f%2fwww.googleapis.com%2fauth%2fpeopleapi.readonly\n",
            "\n",
            "Enter your authorization code:\n",
            "··········\n",
            "Mounted at /content/gdrive/\n"
          ],
          "name": "stdout"
        }
      ]
    },
    {
      "cell_type": "code",
      "metadata": {
        "id": "3VJpdC-jeUVl",
        "colab_type": "code",
        "outputId": "3adc3ff6-6d88-4011-bfeb-c88d012fdc75",
        "colab": {
          "base_uri": "https://localhost:8080/",
          "height": 277
        }
      },
      "source": [
        "# import pandas as pd\n",
        "# data = pd.read(\"/content/gdrive/My Drive/AML_Final_Project/CK+48\")\n",
        "import os,cv2\n",
        "data_path = '/content/gdrive/My Drive/AML_Final_Project/CK+48'\n",
        "data_dir_list = os.listdir(data_path)\n",
        "\n",
        "img_rows=256\n",
        "img_cols=256\n",
        "num_channel=1\n",
        "\n",
        "num_epoch=10\n",
        "\n",
        "img_data_list=[]\n",
        "for dataset in data_dir_list:\n",
        "    img_list=os.listdir(data_path+'/'+ dataset)\n",
        "    print ('Loaded the images of dataset-'+'{}\\n'.format(dataset))\n",
        "    for img in img_list:\n",
        "        input_img=cv2.imread(data_path + '/'+ dataset + '/'+ img )\n",
        "        #input_img=cv2.cvtColor(input_img, cv2.COLOR_BGR2GRAY)\n",
        "        input_img_resize=cv2.resize(input_img,(48,48))\n",
        "        img_data_list.append(input_img_resize)\n",
        "        \n",
        "img_data = np.array(img_data_list)\n",
        "img_data = img_data.astype('float32')\n",
        "img_data = img_data/255\n",
        "img_data.shape\n"
      ],
      "execution_count": 5,
      "outputs": [
        {
          "output_type": "stream",
          "text": [
            "Loaded the images of dataset-surprise\n",
            "\n",
            "Loaded the images of dataset-anger\n",
            "\n",
            "Loaded the images of dataset-happy\n",
            "\n",
            "Loaded the images of dataset-contempt\n",
            "\n",
            "Loaded the images of dataset-fear\n",
            "\n",
            "Loaded the images of dataset-disgust\n",
            "\n",
            "Loaded the images of dataset-sadness\n",
            "\n"
          ],
          "name": "stdout"
        },
        {
          "output_type": "execute_result",
          "data": {
            "text/plain": [
              "(991, 48, 48, 3)"
            ]
          },
          "metadata": {
            "tags": []
          },
          "execution_count": 5
        }
      ]
    },
    {
      "cell_type": "code",
      "metadata": {
        "id": "RHtcsA2yeUgE",
        "colab_type": "code",
        "colab": {}
      },
      "source": [
        "num_classes = 7\n",
        "\n",
        "num_of_samples = img_data.shape[0]\n",
        "labels = np.ones((num_of_samples,),dtype='int64')\n",
        "\n",
        "labels[0:134]=0 #135\n",
        "labels[135:188]=1 #54\n",
        "labels[189:365]=2 #177\n",
        "labels[366:440]=3 #75\n",
        "labels[441:647]=4 #207\n",
        "labels[648:731]=5 #84\n",
        "labels[732:980]=6 #249\n",
        "\n",
        "names = ['anger','contempt','disgust','fear','happy','sadness','surprise']\n",
        "\n",
        "def getLabel(id):\n",
        "    return ['anger','contempt','disgust','fear','happy','sadness','surprise'][id]"
      ],
      "execution_count": 0,
      "outputs": []
    },
    {
      "cell_type": "code",
      "metadata": {
        "id": "iahwjLSreUit",
        "colab_type": "code",
        "colab": {
          "base_uri": "https://localhost:8080/",
          "height": 35
        },
        "outputId": "a7b51229-8120-4ed1-8be4-90fe64cda2d9"
      },
      "source": [
        "from sklearn.utils import shuffle\n",
        "# Y = np_utils.to_categorical(labels, num_classes)\n",
        "\n",
        "#Shuffle the dataset\n",
        "x,y = shuffle(img_data,labels, random_state=2)\n",
        "# Split the dataset\n",
        "X_train, X_test, y_train, y_test = train_test_split(x, y, test_size=0.15, random_state=2)\n",
        "x_test=X_test\n",
        "y.shape"
      ],
      "execution_count": 18,
      "outputs": [
        {
          "output_type": "execute_result",
          "data": {
            "text/plain": [
              "(991,)"
            ]
          },
          "metadata": {
            "tags": []
          },
          "execution_count": 18
        }
      ]
    },
    {
      "cell_type": "code",
      "metadata": {
        "id": "6QDlyi8cMCXA",
        "colab_type": "code",
        "colab": {}
      },
      "source": [
        "X_train = X_train.reshape(X_train.shape[0],(X_train.shape[1]*X_train.shape[2]*X_train.shape[3]))"
      ],
      "execution_count": 0,
      "outputs": []
    },
    {
      "cell_type": "code",
      "metadata": {
        "id": "bNvSLJRLeUlP",
        "colab_type": "code",
        "colab": {}
      },
      "source": [
        "from sklearn.svm import SVC\n",
        "from time import time\n",
        "from sklearn.decomposition import PCA\n",
        "\n",
        "pca = PCA(n_components=15)\n",
        "pca.fit(X_train)\n",
        "X_train_p = pca.transform(X_train)"
      ],
      "execution_count": 0,
      "outputs": []
    },
    {
      "cell_type": "code",
      "metadata": {
        "id": "xa9jsmVhMISG",
        "colab_type": "code",
        "colab": {}
      },
      "source": [
        "X_test = X_test.reshape(X_test.shape[0],(X_test.shape[1]*X_test.shape[2]*X_test.shape[3]))"
      ],
      "execution_count": 0,
      "outputs": []
    },
    {
      "cell_type": "code",
      "metadata": {
        "id": "rpJJwxDlMIbg",
        "colab_type": "code",
        "colab": {}
      },
      "source": [
        "X_test_p = pca.transform(X_test)"
      ],
      "execution_count": 0,
      "outputs": []
    },
    {
      "cell_type": "code",
      "metadata": {
        "id": "MnUH715AMrZv",
        "colab_type": "code",
        "colab": {
          "base_uri": "https://localhost:8080/",
          "height": 693
        },
        "outputId": "7b023ea5-6da0-4283-9d0e-859b02c359ce"
      },
      "source": [
        "y_train"
      ],
      "execution_count": 23,
      "outputs": [
        {
          "output_type": "execute_result",
          "data": {
            "text/plain": [
              "array([2, 6, 2, 2, 6, 3, 4, 1, 1, 6, 6, 0, 4, 6, 6, 3, 3, 4, 2, 3, 1, 6,\n",
              "       4, 2, 6, 1, 5, 6, 6, 5, 0, 0, 0, 6, 5, 0, 6, 4, 6, 1, 0, 2, 4, 5,\n",
              "       2, 4, 4, 0, 1, 6, 6, 2, 2, 5, 6, 4, 0, 0, 2, 5, 6, 0, 2, 6, 0, 3,\n",
              "       4, 4, 2, 6, 4, 6, 2, 6, 0, 6, 6, 2, 6, 2, 1, 2, 6, 2, 2, 4, 3, 1,\n",
              "       3, 0, 6, 4, 5, 0, 6, 2, 4, 6, 5, 2, 6, 1, 0, 4, 3, 6, 6, 4, 5, 0,\n",
              "       2, 6, 6, 2, 2, 2, 2, 6, 6, 4, 4, 6, 1, 4, 3, 4, 4, 5, 0, 0, 6, 3,\n",
              "       0, 3, 6, 2, 4, 2, 3, 0, 5, 4, 6, 0, 0, 6, 4, 2, 1, 6, 6, 4, 1, 4,\n",
              "       0, 6, 3, 3, 0, 5, 2, 4, 5, 6, 3, 3, 0, 6, 4, 2, 2, 6, 1, 4, 6, 1,\n",
              "       4, 0, 2, 6, 6, 6, 0, 6, 2, 2, 4, 4, 4, 6, 2, 6, 4, 0, 1, 6, 4, 4,\n",
              "       4, 2, 4, 1, 2, 3, 1, 4, 6, 4, 5, 3, 0, 6, 6, 4, 6, 6, 2, 4, 3, 0,\n",
              "       6, 5, 4, 5, 0, 6, 2, 2, 5, 4, 0, 0, 4, 6, 3, 2, 4, 6, 5, 0, 5, 4,\n",
              "       5, 5, 6, 6, 4, 5, 6, 4, 4, 4, 2, 4, 3, 5, 5, 5, 6, 6, 2, 0, 0, 0,\n",
              "       2, 6, 0, 2, 6, 6, 6, 3, 4, 0, 3, 0, 2, 2, 1, 6, 2, 4, 6, 3, 6, 2,\n",
              "       2, 6, 6, 6, 6, 2, 2, 1, 2, 2, 1, 6, 6, 6, 1, 3, 2, 2, 2, 1, 4, 0,\n",
              "       1, 6, 0, 6, 6, 4, 2, 0, 3, 4, 2, 2, 6, 3, 2, 6, 5, 3, 6, 0, 0, 4,\n",
              "       4, 4, 1, 6, 2, 0, 6, 2, 1, 2, 3, 0, 2, 4, 4, 4, 6, 0, 6, 4, 0, 1,\n",
              "       6, 3, 4, 3, 4, 6, 4, 1, 4, 2, 2, 2, 5, 3, 3, 4, 4, 3, 2, 3, 2, 4,\n",
              "       4, 3, 1, 4, 4, 6, 6, 6, 5, 4, 2, 0, 0, 6, 6, 2, 6, 4, 3, 2, 4, 5,\n",
              "       6, 4, 6, 4, 4, 4, 4, 5, 2, 1, 5, 2, 5, 6, 0, 6, 3, 2, 4, 4, 4, 2,\n",
              "       6, 3, 2, 0, 4, 4, 0, 2, 0, 6, 4, 0, 4, 3, 6, 1, 6, 4, 0, 6, 4, 6,\n",
              "       4, 2, 5, 4, 1, 5, 6, 4, 1, 6, 5, 2, 6, 4, 4, 2, 2, 0, 6, 5, 1, 3,\n",
              "       0, 5, 5, 6, 2, 2, 6, 0, 3, 6, 2, 4, 6, 5, 6, 6, 3, 0, 1, 2, 4, 6,\n",
              "       6, 5, 2, 4, 4, 2, 2, 4, 6, 0, 4, 5, 2, 6, 1, 1, 4, 6, 4, 2, 6, 6,\n",
              "       3, 4, 0, 1, 4, 3, 2, 2, 6, 0, 5, 3, 6, 2, 4, 6, 6, 5, 5, 1, 2, 0,\n",
              "       4, 6, 4, 4, 4, 5, 0, 4, 6, 1, 4, 5, 0, 2, 6, 4, 4, 3, 2, 3, 4, 4,\n",
              "       0, 3, 3, 2, 2, 2, 6, 4, 5, 6, 1, 1, 0, 5, 4, 6, 4, 6, 5, 0, 6, 2,\n",
              "       6, 4, 6, 6, 2, 2, 4, 3, 3, 6, 0, 2, 0, 2, 6, 2, 2, 6, 3, 0, 5, 5,\n",
              "       6, 6, 2, 3, 2, 0, 5, 0, 6, 4, 1, 6, 3, 0, 6, 0, 1, 0, 3, 2, 2, 6,\n",
              "       6, 0, 0, 6, 3, 2, 6, 3, 2, 6, 4, 2, 2, 4, 0, 6, 6, 0, 4, 5, 0, 4,\n",
              "       4, 4, 6, 4, 3, 6, 6, 2, 1, 5, 5, 0, 2, 6, 4, 5, 0, 0, 6, 2, 2, 0,\n",
              "       2, 3, 2, 4, 4, 6, 6, 4, 0, 4, 6, 4, 4, 3, 4, 0, 6, 6, 0, 4, 4, 5,\n",
              "       4, 2, 2, 2, 3, 4, 4, 5, 2, 0, 4, 6, 1, 4, 4, 3, 2, 4, 0, 5, 0, 6,\n",
              "       4, 4, 5, 0, 6, 6, 6, 1, 2, 6, 4, 5, 4, 6, 6, 2, 2, 5, 1, 6, 4, 2,\n",
              "       0, 5, 6, 6, 6, 2, 1, 4, 6, 4, 6, 6, 6, 6, 2, 1, 6, 4, 1, 6, 4, 4,\n",
              "       4, 5, 1, 0, 1, 6, 1, 6, 4, 6, 0, 1, 6, 0, 2, 6, 1, 2, 0, 0, 6, 2,\n",
              "       2, 0, 4, 2, 5, 3, 0, 1, 1, 1, 0, 5, 4, 2, 6, 0, 4, 4, 5, 5, 4, 4,\n",
              "       1, 0, 4, 5, 2, 6, 6, 6, 6, 0, 5, 4, 2, 2, 0, 1, 4, 0, 6, 5, 2, 6,\n",
              "       6, 2, 2, 6, 4, 4, 0, 2, 4, 6, 2, 6, 1, 2, 5, 6, 6, 6, 2, 1, 4, 6,\n",
              "       0, 1, 5, 1, 5, 6])"
            ]
          },
          "metadata": {
            "tags": []
          },
          "execution_count": 23
        }
      ]
    },
    {
      "cell_type": "code",
      "metadata": {
        "id": "dtMLemhNMZBr",
        "colab_type": "code",
        "colab": {}
      },
      "source": [
        "from sklearn.model_selection import GridSearchCV\n",
        "param_grid = {'C': [ 5e3], \n",
        "          \n",
        "              'gamma': [0.0005], }\n",
        "\n",
        "          # , 0.001, 0.005, 0.01, 0.1\n",
        "# for sklearn version 0.16 or prior, the class_weight parameter value is 'auto'\n",
        "clf = GridSearchCV(SVC(kernel='rbf', class_weight='balanced'), param_grid,n_jobs=-1)\n",
        "clf = clf.fit(X_train_p, y_train)"
      ],
      "execution_count": 0,
      "outputs": []
    },
    {
      "cell_type": "code",
      "metadata": {
        "id": "GE7QVlwFMfie",
        "colab_type": "code",
        "colab": {
          "base_uri": "https://localhost:8080/",
          "height": 260
        },
        "outputId": "864f0978-ad50-4c43-bb27-c95eaf27bd9e"
      },
      "source": [
        "y_pred_p = clf.predict(X_test_p)\n",
        "print(classification_report(y_test, y_pred_p))\n"
      ],
      "execution_count": 29,
      "outputs": [
        {
          "output_type": "stream",
          "text": [
            "              precision    recall  f1-score   support\n",
            "\n",
            "           0       0.96      1.00      0.98        24\n",
            "           1       1.00      0.83      0.91         6\n",
            "           2       0.81      0.96      0.88        27\n",
            "           3       0.82      0.90      0.86        10\n",
            "           4       1.00      0.97      0.98        33\n",
            "           5       1.00      0.89      0.94         9\n",
            "           6       0.97      0.88      0.92        40\n",
            "\n",
            "    accuracy                           0.93       149\n",
            "   macro avg       0.94      0.92      0.92       149\n",
            "weighted avg       0.94      0.93      0.93       149\n",
            "\n"
          ],
          "name": "stdout"
        }
      ]
    },
    {
      "cell_type": "code",
      "metadata": {
        "id": "kJFSU9ZgMfyD",
        "colab_type": "code",
        "colab": {}
      },
      "source": [
        ""
      ],
      "execution_count": 0,
      "outputs": []
    }
  ]
}